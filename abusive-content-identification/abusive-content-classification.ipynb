{
 "cells": [
  {
   "cell_type": "code",
   "execution_count": 1,
   "metadata": {
    "collapsed": true
   },
   "outputs": [],
   "source": [
    "#import the needed libraries \n",
    "\n",
    "import pandas as pd\n",
    "import pickle\n",
    "from sklearn.naive_bayes import MultinomialNB\n",
    "from sklearn.svm import LinearSVC\n",
    "from sklearn.feature_extraction.text import CountVectorizer\n",
    "from sklearn.feature_extraction.text import TfidfTransformer\n",
    "from sklearn.pipeline import Pipeline\n",
    "from sklearn.model_selection import train_test_split\n",
    "from sklearn.metrics import classification_report, confusion_matrix, accuracy_score, f1_score, precision_score, recall_score"
   ]
  },
  {
   "cell_type": "code",
   "execution_count": 2,
   "metadata": {},
   "outputs": [
    {
     "output_type": "execute_result",
     "data": {
      "text/plain": [
       "5462"
      ]
     },
     "metadata": {},
     "execution_count": 2
    }
   ],
   "source": [
    "#read the dataset\n",
    "\n",
    "data = pd.read_excel('all-data-clean.xlsx')\n",
    "#print(data['cleanText'],data['label'])\n",
    "len(data)"
   ]
  },
  {
   "cell_type": "code",
   "execution_count": 3,
   "metadata": {},
   "outputs": [
    {
     "output_type": "stream",
     "name": "stdout",
     "text": [
      "Accuracy: 0.9834\nF1 Score: 0.9836\nPrecision score: 0.9912\nRecall score: 0.9762\nConfusion matrix:\n [[871   8]\n [ 22 902]]\n              precision    recall  f1-score   support\n\n           0       0.98      0.99      0.98       879\n           1       0.99      0.98      0.98       924\n\n    accuracy                           0.98      1803\n   macro avg       0.98      0.98      0.98      1803\nweighted avg       0.98      0.98      0.98      1803\n\n"
     ]
    }
   ],
   "source": [
    "#Multinomial Naive Bayes\n",
    "pipeline_mnb = Pipeline([\n",
    "    ('vect', CountVectorizer()),\n",
    "    #('vect', CountVectorizer(ngram_range=(2,2))),\n",
    "    ('tfidf', TfidfTransformer(use_idf=True, smooth_idf=True)),\n",
    "    ('clf', MultinomialNB(alpha=1))\n",
    "])\n",
    "\n",
    "X_train, X_test, y_train, y_test = train_test_split(data['cleanText'], data['label'],  test_size=0.33, random_state = 0)\n",
    "pipeline_mnb.fit(X_train, y_train)\n",
    "predictions = pipeline_mnb.predict(X_test)\n",
    "\n",
    "print(\"Accuracy: {0:.4f}\".format(accuracy_score(y_test, predictions)))\n",
    "print(\"F1 Score: {0:.4f}\".format(f1_score(y_test, predictions)))\n",
    "print(\"Precision score: {0:.4f}\".format(precision_score(y_test, predictions)))\n",
    "print(\"Recall score: {0:.4f}\".format(recall_score(y_test, predictions)))\n",
    "print(\"Confusion matrix:\\n {}\".format(confusion_matrix(y_test, predictions)))\n",
    "print (classification_report(y_test, predictions))"
   ]
  },
  {
   "cell_type": "code",
   "execution_count": 4,
   "metadata": {},
   "outputs": [
    {
     "output_type": "execute_result",
     "data": {
      "text/plain": [
       "array([0, 0, 1])"
      ]
     },
     "metadata": {},
     "execution_count": 4
    }
   ],
   "source": [
    "predictions = pipeline_mnb.predict([\"dasar brengsek\",\"payah keparat\",\"saya sangat menyukai kerja anda\"])\n",
    "predictions"
   ]
  },
  {
   "cell_type": "code",
   "execution_count": 5,
   "metadata": {},
   "outputs": [
    {
     "output_type": "stream",
     "name": "stdout",
     "text": [
      "Accuracy: 0.9916805324459235\n",
      "F1 Score: 0.9919050188882892\n",
      "Precision score: 0.9892357373519914\n",
      "Recall score: 0.9945887445887446\n",
      "Confusion matrix:\n",
      " [[869  10]\n",
      " [  5 919]]\n",
      "              precision    recall  f1-score   support\n",
      "\n",
      "           0       0.99      0.99      0.99       879\n",
      "           1       0.99      0.99      0.99       924\n",
      "\n",
      "    accuracy                           0.99      1803\n",
      "   macro avg       0.99      0.99      0.99      1803\n",
      "weighted avg       0.99      0.99      0.99      1803\n",
      "\n"
     ]
    }
   ],
   "source": [
    "#SVM\n",
    "pipeline_svm = Pipeline([\n",
    "    ('vect', CountVectorizer()),\n",
    "    ('tfidf', TfidfTransformer(use_idf=True, smooth_idf=True)),\n",
    "    ('clf', LinearSVC())\n",
    "])\n",
    "\n",
    "X_train, X_test, y_train, y_test = train_test_split(data['cleanText'], data['label'],  test_size=0.33, random_state = 0)\n",
    "pipeline_svm.fit(X_train, y_train)\n",
    "predictions = pipeline_svm.predict(X_test)\n",
    "\n",
    "print(\"Accuracy: {}\".format(accuracy_score(y_test, predictions)))\n",
    "print(\"F1 Score: {}\".format(f1_score(y_test, predictions)))\n",
    "print(\"Precision score: {}\".format(precision_score(y_test, predictions)))\n",
    "print(\"Recall score: {}\".format(recall_score(y_test, predictions)))\n",
    "print(\"Confusion matrix:\\n {}\".format(confusion_matrix(y_test, predictions)))\n",
    "print (classification_report(y_test, predictions))"
   ]
  },
  {
   "cell_type": "code",
   "execution_count": 6,
   "metadata": {},
   "outputs": [
    {
     "output_type": "execute_result",
     "data": {
      "text/plain": [
       "array([0])"
      ]
     },
     "metadata": {},
     "execution_count": 6
    }
   ],
   "source": [
    "predictions = pipeline_svm.predict([\"dasar brengsek\"])\n",
    "predictions"
   ]
  },
  {
   "cell_type": "code",
   "execution_count": 7,
   "metadata": {},
   "outputs": [],
   "source": [
    "#Save SVM model\n",
    "pkl_filename = 'svm_abusive_model.pkl'\n",
    "\n",
    "with open(pkl_filename, 'wb') as file:\n",
    "    pickle.dump(pipeline_svm, file)"
   ]
  },
  {
   "cell_type": "code",
   "execution_count": 8,
   "metadata": {},
   "outputs": [
    {
     "output_type": "execute_result",
     "data": {
      "text/plain": [
       "Pipeline(steps=[('vect', CountVectorizer()), ('tfidf', TfidfTransformer()),\n",
       "                ('clf', LinearSVC())])"
      ]
     },
     "metadata": {},
     "execution_count": 8
    }
   ],
   "source": [
    "#Load SVM model\n",
    "\n",
    "with open(pkl_filename, 'rb') as file:\n",
    "    loaded_model = pickle.load(file)\n",
    "\n",
    "loaded_model"
   ]
  },
  {
   "cell_type": "code",
   "execution_count": 9,
   "metadata": {},
   "outputs": [
    {
     "output_type": "stream",
     "name": "stdout",
     "text": [
      "Test score: 0.99 %\n"
     ]
    },
    {
     "output_type": "execute_result",
     "data": {
      "text/plain": [
       "array([1, 1, 1, ..., 1, 1, 1])"
      ]
     },
     "metadata": {},
     "execution_count": 9
    }
   ],
   "source": [
    "#Use loaded model to predict new sentence\n",
    "\n",
    "score = loaded_model.score(X_test, y_test)\n",
    "\n",
    "print(\"Test score: {0:.2f} %\".format(score))\n",
    "\n",
    "y_pred = loaded_model.predict(X_test)\n",
    "y_pred"
   ]
  },
  {
   "cell_type": "code",
   "execution_count": null,
   "metadata": {},
   "outputs": [],
   "source": []
  }
 ],
 "metadata": {
  "kernelspec": {
   "display_name": "Python 3",
   "language": "python",
   "name": "python3"
  }
 },
 "nbformat": 4,
 "nbformat_minor": 2
}