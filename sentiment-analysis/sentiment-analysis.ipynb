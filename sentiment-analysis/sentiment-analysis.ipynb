{
 "metadata": {
  "orig_nbformat": 2,
  "kernelspec": {
   "name": "python2",
   "display_name": "Python 2",
   "language": "python"
  }
 },
 "nbformat": 4,
 "nbformat_minor": 2,
 "cells": [
  {
   "cell_type": "code",
   "execution_count": 11,
   "metadata": {},
   "outputs": [],
   "source": [
    "import pandas as pd\n",
    "import pickle\n",
    "from sklearn.naive_bayes import MultinomialNB\n",
    "from sklearn.svm import LinearSVC\n",
    "from sklearn.feature_extraction.text import CountVectorizer\n",
    "from sklearn.feature_extraction.text import TfidfTransformer\n",
    "from sklearn.pipeline import Pipeline\n",
    "from sklearn.model_selection import train_test_split\n",
    "from sklearn.metrics import classification_report, confusion_matrix, accuracy_score, f1_score, precision_score, recall_score\n",
    "from sklearn.preprocessing import LabelEncoder"
   ]
  },
  {
   "cell_type": "code",
   "execution_count": 12,
   "metadata": {},
   "outputs": [
    {
     "output_type": "stream",
     "name": "stderr",
     "text": [
      "/Users/bsi-00/opt/anaconda3/lib/python3.8/site-packages/IPython/core/interactiveshell.py:3146: DtypeWarning: Columns (8) have mixed types.Specify dtype option on import or set low_memory=False.\n  has_raised = await self.run_ast_nodes(code_ast.body, cell_name,\n"
     ]
    },
    {
     "output_type": "execute_result",
     "data": {
      "text/plain": [
       "                                               clean pemilu provinsi pulau  \\\n",
       "0                    sesi debat bahasa inggris kapar    pre   Banten  Jawa   \n",
       "1  40 jaring santri nasional jksn magelang raya l...    pre   Banten  Jawa   \n",
       "2  jaga selamat tim lapang kumpul bukti2 ijazah s...    pre   Banten  Jawa   \n",
       "3  mudah tebak berapi2 belepotan penuh bohong hoa...    pre   Banten  Jawa   \n",
       "4  selamat segala sifat keras hati picik angkara ...    pre   Banten  Jawa   \n",
       "\n",
       "  sentimen sentimenlama                                      stemming_text  \\\n",
       "0  positif          NaN                    sesi debat bahasa inggris kapar   \n",
       "1  positif          NaN  40 jaring santri nasional jksn magelang raya l...   \n",
       "2  negatif          NaN  jaga selamat tim lapang kumpul bukti2 ijazah s...   \n",
       "3  negatif          NaN  mudah tebak berapi2 belepotan penuh bohong hoa...   \n",
       "4  positif          NaN  selamat siang segala sifat keras hati picik an...   \n",
       "\n",
       "                tanggal                                              tweet  \\\n",
       "0  1/17/201911:55:00 AM              sesi debat berbahasa inggris terkapar   \n",
       "1  1/17/201911:55:00 AM  40 jaringan santri nasional jksn magelang raya...   \n",
       "2  1/17/201911:55:00 AM  dijaga keselamatan tim lapangan mengumpulkan b...   \n",
       "3  1/17/201911:55:00 AM  mudah ditebak berapi2 belepotan penuh bohong h...   \n",
       "4  1/17/201911:55:00 AM  selamat siang segala sifat keras hati picik an...   \n",
       "\n",
       "                                          tweet_text twit    waktu  \n",
       "0           sesi debat berbahasa inggris   terkapar   NaN  debat 1  \n",
       "1  40 jaringan  santri nasional jksn magelang ray...  NaN  debat 1  \n",
       "2   dijaga keselamatan tim lapangan mengumpulkan ...  NaN  debat 1  \n",
       "3  mudah ditebak  berapi2  belepotan penuh bohong...  NaN  debat 1  \n",
       "4  selamat siang segala sifat keras hati picik an...  NaN  debat 1  "
      ],
      "text/html": "<div>\n<style scoped>\n    .dataframe tbody tr th:only-of-type {\n        vertical-align: middle;\n    }\n\n    .dataframe tbody tr th {\n        vertical-align: top;\n    }\n\n    .dataframe thead th {\n        text-align: right;\n    }\n</style>\n<table border=\"1\" class=\"dataframe\">\n  <thead>\n    <tr style=\"text-align: right;\">\n      <th></th>\n      <th>clean</th>\n      <th>pemilu</th>\n      <th>provinsi</th>\n      <th>pulau</th>\n      <th>sentimen</th>\n      <th>sentimenlama</th>\n      <th>stemming_text</th>\n      <th>tanggal</th>\n      <th>tweet</th>\n      <th>tweet_text</th>\n      <th>twit</th>\n      <th>waktu</th>\n    </tr>\n  </thead>\n  <tbody>\n    <tr>\n      <th>0</th>\n      <td>sesi debat bahasa inggris kapar</td>\n      <td>pre</td>\n      <td>Banten</td>\n      <td>Jawa</td>\n      <td>positif</td>\n      <td>NaN</td>\n      <td>sesi debat bahasa inggris kapar</td>\n      <td>1/17/201911:55:00 AM</td>\n      <td>sesi debat berbahasa inggris terkapar</td>\n      <td>sesi debat berbahasa inggris   terkapar</td>\n      <td>NaN</td>\n      <td>debat 1</td>\n    </tr>\n    <tr>\n      <th>1</th>\n      <td>40 jaring santri nasional jksn magelang raya l...</td>\n      <td>pre</td>\n      <td>Banten</td>\n      <td>Jawa</td>\n      <td>positif</td>\n      <td>NaN</td>\n      <td>40 jaring santri nasional jksn magelang raya l...</td>\n      <td>1/17/201911:55:00 AM</td>\n      <td>40 jaringan santri nasional jksn magelang raya...</td>\n      <td>40 jaringan  santri nasional jksn magelang ray...</td>\n      <td>NaN</td>\n      <td>debat 1</td>\n    </tr>\n    <tr>\n      <th>2</th>\n      <td>jaga selamat tim lapang kumpul bukti2 ijazah s...</td>\n      <td>pre</td>\n      <td>Banten</td>\n      <td>Jawa</td>\n      <td>negatif</td>\n      <td>NaN</td>\n      <td>jaga selamat tim lapang kumpul bukti2 ijazah s...</td>\n      <td>1/17/201911:55:00 AM</td>\n      <td>dijaga keselamatan tim lapangan mengumpulkan b...</td>\n      <td>dijaga keselamatan tim lapangan mengumpulkan ...</td>\n      <td>NaN</td>\n      <td>debat 1</td>\n    </tr>\n    <tr>\n      <th>3</th>\n      <td>mudah tebak berapi2 belepotan penuh bohong hoa...</td>\n      <td>pre</td>\n      <td>Banten</td>\n      <td>Jawa</td>\n      <td>negatif</td>\n      <td>NaN</td>\n      <td>mudah tebak berapi2 belepotan penuh bohong hoa...</td>\n      <td>1/17/201911:55:00 AM</td>\n      <td>mudah ditebak berapi2 belepotan penuh bohong h...</td>\n      <td>mudah ditebak  berapi2  belepotan penuh bohong...</td>\n      <td>NaN</td>\n      <td>debat 1</td>\n    </tr>\n    <tr>\n      <th>4</th>\n      <td>selamat segala sifat keras hati picik angkara ...</td>\n      <td>pre</td>\n      <td>Banten</td>\n      <td>Jawa</td>\n      <td>positif</td>\n      <td>NaN</td>\n      <td>selamat siang segala sifat keras hati picik an...</td>\n      <td>1/17/201911:55:00 AM</td>\n      <td>selamat siang segala sifat keras hati picik an...</td>\n      <td>selamat siang segala sifat keras hati picik an...</td>\n      <td>NaN</td>\n      <td>debat 1</td>\n    </tr>\n  </tbody>\n</table>\n</div>"
     },
     "metadata": {},
     "execution_count": 12
    }
   ],
   "source": [
    "df = pd.read_csv('all_sentiment.csv', sep=',')\n",
    "df.head()"
   ]
  },
  {
   "cell_type": "code",
   "execution_count": 13,
   "metadata": {},
   "outputs": [
    {
     "output_type": "execute_result",
     "data": {
      "text/plain": [
       "                                               clean sentimen\n",
       "0                    sesi debat bahasa inggris kapar  positif\n",
       "1  40 jaring santri nasional jksn magelang raya l...  positif\n",
       "2  jaga selamat tim lapang kumpul bukti2 ijazah s...  negatif\n",
       "3  mudah tebak berapi2 belepotan penuh bohong hoa...  negatif\n",
       "4  selamat segala sifat keras hati picik angkara ...  positif"
      ],
      "text/html": "<div>\n<style scoped>\n    .dataframe tbody tr th:only-of-type {\n        vertical-align: middle;\n    }\n\n    .dataframe tbody tr th {\n        vertical-align: top;\n    }\n\n    .dataframe thead th {\n        text-align: right;\n    }\n</style>\n<table border=\"1\" class=\"dataframe\">\n  <thead>\n    <tr style=\"text-align: right;\">\n      <th></th>\n      <th>clean</th>\n      <th>sentimen</th>\n    </tr>\n  </thead>\n  <tbody>\n    <tr>\n      <th>0</th>\n      <td>sesi debat bahasa inggris kapar</td>\n      <td>positif</td>\n    </tr>\n    <tr>\n      <th>1</th>\n      <td>40 jaring santri nasional jksn magelang raya l...</td>\n      <td>positif</td>\n    </tr>\n    <tr>\n      <th>2</th>\n      <td>jaga selamat tim lapang kumpul bukti2 ijazah s...</td>\n      <td>negatif</td>\n    </tr>\n    <tr>\n      <th>3</th>\n      <td>mudah tebak berapi2 belepotan penuh bohong hoa...</td>\n      <td>negatif</td>\n    </tr>\n    <tr>\n      <th>4</th>\n      <td>selamat segala sifat keras hati picik angkara ...</td>\n      <td>positif</td>\n    </tr>\n  </tbody>\n</table>\n</div>"
     },
     "metadata": {},
     "execution_count": 13
    }
   ],
   "source": [
    "data = df.filter(['clean','sentimen'])\n",
    "data.head()"
   ]
  },
  {
   "cell_type": "code",
   "execution_count": 14,
   "metadata": {},
   "outputs": [
    {
     "output_type": "execute_result",
     "data": {
      "text/plain": [
       "                                           cleanText    label\n",
       "0                    sesi debat bahasa inggris kapar  positif\n",
       "1  40 jaring santri nasional jksn magelang raya l...  positif\n",
       "2  jaga selamat tim lapang kumpul bukti2 ijazah s...  negatif\n",
       "3  mudah tebak berapi2 belepotan penuh bohong hoa...  negatif\n",
       "4  selamat segala sifat keras hati picik angkara ...  positif"
      ],
      "text/html": "<div>\n<style scoped>\n    .dataframe tbody tr th:only-of-type {\n        vertical-align: middle;\n    }\n\n    .dataframe tbody tr th {\n        vertical-align: top;\n    }\n\n    .dataframe thead th {\n        text-align: right;\n    }\n</style>\n<table border=\"1\" class=\"dataframe\">\n  <thead>\n    <tr style=\"text-align: right;\">\n      <th></th>\n      <th>cleanText</th>\n      <th>label</th>\n    </tr>\n  </thead>\n  <tbody>\n    <tr>\n      <th>0</th>\n      <td>sesi debat bahasa inggris kapar</td>\n      <td>positif</td>\n    </tr>\n    <tr>\n      <th>1</th>\n      <td>40 jaring santri nasional jksn magelang raya l...</td>\n      <td>positif</td>\n    </tr>\n    <tr>\n      <th>2</th>\n      <td>jaga selamat tim lapang kumpul bukti2 ijazah s...</td>\n      <td>negatif</td>\n    </tr>\n    <tr>\n      <th>3</th>\n      <td>mudah tebak berapi2 belepotan penuh bohong hoa...</td>\n      <td>negatif</td>\n    </tr>\n    <tr>\n      <th>4</th>\n      <td>selamat segala sifat keras hati picik angkara ...</td>\n      <td>positif</td>\n    </tr>\n  </tbody>\n</table>\n</div>"
     },
     "metadata": {},
     "execution_count": 14
    }
   ],
   "source": [
    "#edit column name\n",
    "data = data.rename(columns={'clean':'cleanText', 'sentimen':'label'})\n",
    "data.head()"
   ]
  },
  {
   "cell_type": "code",
   "execution_count": 16,
   "metadata": {},
   "outputs": [
    {
     "output_type": "stream",
     "name": "stdout",
     "text": [
      "[1 0]\n                                           cleanText  label\n0                    sesi debat bahasa inggris kapar      1\n1  40 jaring santri nasional jksn magelang raya l...      1\n2  jaga selamat tim lapang kumpul bukti2 ijazah s...      0\n3  mudah tebak berapi2 belepotan penuh bohong hoa...      0\n4  selamat segala sifat keras hati picik angkara ...      1\n"
     ]
    }
   ],
   "source": [
    "#label encoder, 1 = positif & 0 = negatif\n",
    "labelencoder = LabelEncoder()\n",
    "data['label'] = labelencoder.fit_transform(data['label'])\n",
    "print(data.label.unique())\n",
    "print(data.head())"
   ]
  },
  {
   "cell_type": "code",
   "execution_count": 17,
   "metadata": {},
   "outputs": [
    {
     "output_type": "stream",
     "name": "stdout",
     "text": [
      "Accuracy: 0.8373673480056458\nF1 Score: 0.8188329839273236\nPrecision score: 0.8270689959414153\nRecall score: 0.8107593841895866\nConfusion matrix:\n [[17975  2940]\n [ 3282 14061]]\n              precision    recall  f1-score   support\n\n           0       0.85      0.86      0.85     20915\n           1       0.83      0.81      0.82     17343\n\n    accuracy                           0.84     38258\n   macro avg       0.84      0.84      0.84     38258\nweighted avg       0.84      0.84      0.84     38258\n\n"
     ]
    }
   ],
   "source": [
    "#SVM\n",
    "pipeline_svm = Pipeline([\n",
    "    ('vect', CountVectorizer()),\n",
    "    ('tfidf', TfidfTransformer(use_idf=True, smooth_idf=True)),\n",
    "    ('clf', LinearSVC())\n",
    "])\n",
    "\n",
    "X_train, X_test, y_train, y_test = train_test_split(data['cleanText'], data['label'],  test_size=0.33, random_state = 0)\n",
    "pipeline_svm.fit(X_train, y_train)\n",
    "predictions = pipeline_svm.predict(X_test)\n",
    "\n",
    "print(\"Accuracy: {}\".format(accuracy_score(y_test, predictions)))\n",
    "print(\"F1 Score: {}\".format(f1_score(y_test, predictions)))\n",
    "print(\"Precision score: {}\".format(precision_score(y_test, predictions)))\n",
    "print(\"Recall score: {}\".format(recall_score(y_test, predictions)))\n",
    "print(\"Confusion matrix:\\n {}\".format(confusion_matrix(y_test, predictions)))\n",
    "print (classification_report(y_test, predictions))"
   ]
  },
  {
   "cell_type": "code",
   "execution_count": 22,
   "metadata": {},
   "outputs": [
    {
     "output_type": "execute_result",
     "data": {
      "text/plain": [
       "array([1])"
      ]
     },
     "metadata": {},
     "execution_count": 22
    }
   ],
   "source": [
    "predictions = pipeline_svm.predict([\"hebat\"])\n",
    "predictions"
   ]
  },
  {
   "cell_type": "code",
   "execution_count": 23,
   "metadata": {},
   "outputs": [],
   "source": [
    "#Save SVM model\n",
    "pkl_filename = 'sentiment_model.pkl'\n",
    "\n",
    "with open(pkl_filename, 'wb') as file:\n",
    "    pickle.dump(pipeline_svm, file)"
   ]
  },
  {
   "cell_type": "code",
   "execution_count": null,
   "metadata": {},
   "outputs": [],
   "source": []
  }
 ]
}